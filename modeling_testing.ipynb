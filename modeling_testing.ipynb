{
 "cells": [
  {
   "cell_type": "markdown",
   "metadata": {},
   "source": [
    "# Step 1: Import Necessary Libraries"
   ]
  },
  {
   "cell_type": "code",
   "execution_count": 189,
   "metadata": {},
   "outputs": [],
   "source": [
    "from sklearn.linear_model import LinearRegression\n",
    "\n",
    "import pandas as pd\n",
    "import numpy as np\n",
    "from sklearn.model_selection import train_test_split\n",
    "from sklearn.linear_model import LinearRegression\n",
    "from sklearn.metrics import mean_squared_error, r2_score\n",
    "import matplotlib.pyplot as plt\n",
    "import json\n",
    "import pandas as pd\n",
    "from sklearn.model_selection import train_test_split\n",
    "from sklearn.linear_model import LinearRegression\n",
    "from sklearn.metrics import mean_squared_error, r2_score\n",
    "from sklearn.preprocessing import LabelEncoder, OneHotEncoder\n"
   ]
  },
  {
   "cell_type": "markdown",
   "metadata": {},
   "source": [
    "# Step 2: Load and Prepare the Data"
   ]
  },
  {
   "cell_type": "markdown",
   "metadata": {},
   "source": [
    "## Load the JSON data"
   ]
  },
  {
   "cell_type": "code",
   "execution_count": 190,
   "metadata": {},
   "outputs": [
    {
     "data": {
      "text/html": [
       "<div>\n",
       "<style scoped>\n",
       "    .dataframe tbody tr th:only-of-type {\n",
       "        vertical-align: middle;\n",
       "    }\n",
       "\n",
       "    .dataframe tbody tr th {\n",
       "        vertical-align: top;\n",
       "    }\n",
       "\n",
       "    .dataframe thead th {\n",
       "        text-align: right;\n",
       "    }\n",
       "</style>\n",
       "<table border=\"1\" class=\"dataframe\">\n",
       "  <thead>\n",
       "    <tr style=\"text-align: right;\">\n",
       "      <th></th>\n",
       "      <th>id</th>\n",
       "      <th>categoryTypeName</th>\n",
       "      <th>tradeTypeName</th>\n",
       "      <th>estateTypeName</th>\n",
       "      <th>title</th>\n",
       "      <th>url</th>\n",
       "      <th>images</th>\n",
       "      <th>locationSummary</th>\n",
       "      <th>quickInfos</th>\n",
       "      <th>priceDetail</th>\n",
       "      <th>description</th>\n",
       "      <th>info</th>\n",
       "      <th>location</th>\n",
       "    </tr>\n",
       "  </thead>\n",
       "  <tbody>\n",
       "    <tr>\n",
       "      <th>0</th>\n",
       "      <td>14869600</td>\n",
       "      <td>konut</td>\n",
       "      <td>satılık</td>\n",
       "      <td>yazlık</td>\n",
       "      <td>satılık 4+1 bahçe katı yazlık daire</td>\n",
       "      <td>https://imaj.emlakjet.com/ilan/satilik-41-bahc...</td>\n",
       "      <td>[https://imaj.emlakjet.com/listing/14869600/74...</td>\n",
       "      <td>adalar - kınalıada mahallesi</td>\n",
       "      <td>Oda Sayısı: 4+1; Bulunduğu Kat: Bahçe katı</td>\n",
       "      <td>{'trendType': None, 'previousCurrency': None, ...</td>\n",
       "      <td>tekinay'da satılık 4+1 bahçe katı yazlık daire...</td>\n",
       "      <td>{'id': '14869600', 'created_at': '2024-03-17',...</td>\n",
       "      <td>{'summary': 'Adalar - Kınalıada Mahallesi', 'c...</td>\n",
       "    </tr>\n",
       "    <tr>\n",
       "      <th>1</th>\n",
       "      <td>14794365</td>\n",
       "      <td>konut</td>\n",
       "      <td>satılık</td>\n",
       "      <td>daire</td>\n",
       "      <td>büyükada i̇do i̇skelesine yakın konumda 3+1 bl...</td>\n",
       "      <td>https://imaj.emlakjet.com/ilan/buyukada-ido-is...</td>\n",
       "      <td>[https://imaj.emlakjet.com/listing/14794365/4E...</td>\n",
       "      <td>adalar - nizam mahallesi</td>\n",
       "      <td>Oda Sayısı: 3+1; Bulunduğu Kat: Düz Giriş (Zemin)</td>\n",
       "      <td>{'trendType': None, 'previousCurrency': None, ...</td>\n",
       "      <td>mega emlak'tan \\n\\nbüyükada yi̇rmi̇üç ni̇san c...</td>\n",
       "      <td>{'id': '14794365', 'created_at': '2024-03-02',...</td>\n",
       "      <td>{'summary': 'Adalar - Nizam Mahallesi', 'city'...</td>\n",
       "    </tr>\n",
       "    <tr>\n",
       "      <th>2</th>\n",
       "      <td>14780556</td>\n",
       "      <td>konut</td>\n",
       "      <td>satılık</td>\n",
       "      <td>daire</td>\n",
       "      <td>heybeliada muhteşem deniz manzaralı sahile yak...</td>\n",
       "      <td>https://imaj.emlakjet.com/ilan/heybeliada-muht...</td>\n",
       "      <td>[https://imaj.emlakjet.com/listing/14780556/1F...</td>\n",
       "      <td>adalar - heybeliada mahallesi</td>\n",
       "      <td>Oda Sayısı: 4+1; Bulunduğu Kat: 4. Kat</td>\n",
       "      <td>{'trendType': None, 'previousCurrency': None, ...</td>\n",
       "      <td>heybeliada’da tamamen yenilenmiş deniz manzara...</td>\n",
       "      <td>{'id': '14780556', 'created_at': '2024-02-28',...</td>\n",
       "      <td>{'summary': 'Adalar - Heybeliada Mahallesi', '...</td>\n",
       "    </tr>\n",
       "    <tr>\n",
       "      <th>3</th>\n",
       "      <td>14780555</td>\n",
       "      <td>konut</td>\n",
       "      <td>satılık</td>\n",
       "      <td>daire</td>\n",
       "      <td>adalar heybeliada’da satılık 3+1 kat mülkiyetli</td>\n",
       "      <td>https://imaj.emlakjet.com/ilan/adalar-heybelia...</td>\n",
       "      <td>[https://imaj.emlakjet.com/listing/14780555/28...</td>\n",
       "      <td>adalar - heybeliada mahallesi</td>\n",
       "      <td>Oda Sayısı: 3+1; Bulunduğu Kat: 3. Kat</td>\n",
       "      <td>{'trendType': None, 'previousCurrency': None, ...</td>\n",
       "      <td>heybeliada’da satılık 3+1kat mülkiyetli\\n\\nhey...</td>\n",
       "      <td>{'id': '14780555', 'created_at': '2024-02-28',...</td>\n",
       "      <td>{'summary': 'Adalar - Heybeliada Mahallesi', '...</td>\n",
       "    </tr>\n",
       "    <tr>\n",
       "      <th>4</th>\n",
       "      <td>14771773</td>\n",
       "      <td>konut</td>\n",
       "      <td>satılık</td>\n",
       "      <td>yalı</td>\n",
       "      <td>prenses adalari heybeli̇de muhteşem deni̇z yal...</td>\n",
       "      <td>https://imaj.emlakjet.com/ilan/prenses-adalari...</td>\n",
       "      <td>[https://imaj.emlakjet.com/listing/14771773/BD...</td>\n",
       "      <td>adalar - heybeliada mahallesi</td>\n",
       "      <td>Oda Sayısı: 9+ Oda</td>\n",
       "      <td>{'trendType': None, 'previousCurrency': None, ...</td>\n",
       "      <td>-prenses adalari heybeli̇ adada\\n\\n250 m2 araz...</td>\n",
       "      <td>{'id': '14771773', 'created_at': '2024-02-27',...</td>\n",
       "      <td>{'summary': 'Adalar - Heybeliada Mahallesi', '...</td>\n",
       "    </tr>\n",
       "  </tbody>\n",
       "</table>\n",
       "</div>"
      ],
      "text/plain": [
       "         id categoryTypeName tradeTypeName estateTypeName  \\\n",
       "0  14869600            konut       satılık         yazlık   \n",
       "1  14794365            konut       satılık          daire   \n",
       "2  14780556            konut       satılık          daire   \n",
       "3  14780555            konut       satılık          daire   \n",
       "4  14771773            konut       satılık           yalı   \n",
       "\n",
       "                                               title  \\\n",
       "0                satılık 4+1 bahçe katı yazlık daire   \n",
       "1  büyükada i̇do i̇skelesine yakın konumda 3+1 bl...   \n",
       "2  heybeliada muhteşem deniz manzaralı sahile yak...   \n",
       "3    adalar heybeliada’da satılık 3+1 kat mülkiyetli   \n",
       "4  prenses adalari heybeli̇de muhteşem deni̇z yal...   \n",
       "\n",
       "                                                 url  \\\n",
       "0  https://imaj.emlakjet.com/ilan/satilik-41-bahc...   \n",
       "1  https://imaj.emlakjet.com/ilan/buyukada-ido-is...   \n",
       "2  https://imaj.emlakjet.com/ilan/heybeliada-muht...   \n",
       "3  https://imaj.emlakjet.com/ilan/adalar-heybelia...   \n",
       "4  https://imaj.emlakjet.com/ilan/prenses-adalari...   \n",
       "\n",
       "                                              images  \\\n",
       "0  [https://imaj.emlakjet.com/listing/14869600/74...   \n",
       "1  [https://imaj.emlakjet.com/listing/14794365/4E...   \n",
       "2  [https://imaj.emlakjet.com/listing/14780556/1F...   \n",
       "3  [https://imaj.emlakjet.com/listing/14780555/28...   \n",
       "4  [https://imaj.emlakjet.com/listing/14771773/BD...   \n",
       "\n",
       "                 locationSummary  \\\n",
       "0   adalar - kınalıada mahallesi   \n",
       "1       adalar - nizam mahallesi   \n",
       "2  adalar - heybeliada mahallesi   \n",
       "3  adalar - heybeliada mahallesi   \n",
       "4  adalar - heybeliada mahallesi   \n",
       "\n",
       "                                          quickInfos  \\\n",
       "0         Oda Sayısı: 4+1; Bulunduğu Kat: Bahçe katı   \n",
       "1  Oda Sayısı: 3+1; Bulunduğu Kat: Düz Giriş (Zemin)   \n",
       "2             Oda Sayısı: 4+1; Bulunduğu Kat: 4. Kat   \n",
       "3             Oda Sayısı: 3+1; Bulunduğu Kat: 3. Kat   \n",
       "4                                 Oda Sayısı: 9+ Oda   \n",
       "\n",
       "                                         priceDetail  \\\n",
       "0  {'trendType': None, 'previousCurrency': None, ...   \n",
       "1  {'trendType': None, 'previousCurrency': None, ...   \n",
       "2  {'trendType': None, 'previousCurrency': None, ...   \n",
       "3  {'trendType': None, 'previousCurrency': None, ...   \n",
       "4  {'trendType': None, 'previousCurrency': None, ...   \n",
       "\n",
       "                                         description  \\\n",
       "0  tekinay'da satılık 4+1 bahçe katı yazlık daire...   \n",
       "1  mega emlak'tan \\n\\nbüyükada yi̇rmi̇üç ni̇san c...   \n",
       "2  heybeliada’da tamamen yenilenmiş deniz manzara...   \n",
       "3  heybeliada’da satılık 3+1kat mülkiyetli\\n\\nhey...   \n",
       "4  -prenses adalari heybeli̇ adada\\n\\n250 m2 araz...   \n",
       "\n",
       "                                                info  \\\n",
       "0  {'id': '14869600', 'created_at': '2024-03-17',...   \n",
       "1  {'id': '14794365', 'created_at': '2024-03-02',...   \n",
       "2  {'id': '14780556', 'created_at': '2024-02-28',...   \n",
       "3  {'id': '14780555', 'created_at': '2024-02-28',...   \n",
       "4  {'id': '14771773', 'created_at': '2024-02-27',...   \n",
       "\n",
       "                                            location  \n",
       "0  {'summary': 'Adalar - Kınalıada Mahallesi', 'c...  \n",
       "1  {'summary': 'Adalar - Nizam Mahallesi', 'city'...  \n",
       "2  {'summary': 'Adalar - Heybeliada Mahallesi', '...  \n",
       "3  {'summary': 'Adalar - Heybeliada Mahallesi', '...  \n",
       "4  {'summary': 'Adalar - Heybeliada Mahallesi', '...  "
      ]
     },
     "execution_count": 190,
     "metadata": {},
     "output_type": "execute_result"
    }
   ],
   "source": [
    "# Load the dataset\n",
    "df = pd.read_json('istanbul_emlakjet_all_records_clean.json')\n",
    "\n",
    "# Display the first few rows of the DataFrame\n",
    "df.head()\n"
   ]
  },
  {
   "cell_type": "markdown",
   "metadata": {},
   "source": [
    "## Data Preparation"
   ]
  },
  {
   "cell_type": "code",
   "execution_count": 191,
   "metadata": {},
   "outputs": [
    {
     "name": "stdout",
     "output_type": "stream",
     "text": [
      "Index(['id', 'categoryTypeName', 'tradeTypeName', 'estateTypeName', 'title',\n",
      "       'url', 'images', 'locationSummary', 'quickInfos', 'priceDetail',\n",
      "       'description', 'info', 'location'],\n",
      "      dtype='object')\n"
     ]
    }
   ],
   "source": [
    "print(df.columns)"
   ]
  },
  {
   "cell_type": "code",
   "execution_count": 192,
   "metadata": {},
   "outputs": [],
   "source": [
    "if 'priceDetail' in df.columns:\n",
    "    price_details = pd.json_normalize(df['priceDetail'])\n",
    "    df = pd.concat([df.drop(['priceDetail'], axis=1), price_details], axis=1)\n",
    "\n",
    "if 'info' in df.columns:\n",
    "    info_details = pd.json_normalize(df['info'])\n",
    "    df = pd.concat([df.drop(['info'], axis=1), info_details], axis=1)\n"
   ]
  },
  {
   "cell_type": "code",
   "execution_count": 193,
   "metadata": {},
   "outputs": [
    {
     "name": "stdout",
     "output_type": "stream",
     "text": [
      "Index(['id', 'categoryTypeName', 'tradeTypeName', 'estateTypeName', 'title',\n",
      "       'url', 'images', 'locationSummary', 'quickInfos', 'description',\n",
      "       'location', 'trendType', 'previousCurrency', 'previousPrice',\n",
      "       'previousValueValid', 'currency', 'price', 'tlPrice',\n",
      "       'alternativeValue', 'firstPrice', 'differenceRate', 'squareMeterPrice',\n",
      "       'opportunity', 'id', 'created_at', 'updated_at', 'category',\n",
      "       'trade_type', 'net_square', 'gross_square', 'room_count', 'build_age',\n",
      "       'floor_number', 'floor_count', 'heating_type', 'usability',\n",
      "       'suitability_for_credit', 'suitability_for_investor', 'in_site',\n",
      "       'build_status', 'build_type', 'deed_status', 'mortgage_status',\n",
      "       'furniture_status', 'subscription_price', 'loan_price', 'trade',\n",
      "       'bath_count', 'square_of_bath', 'balcony_condition', 'balcony_count',\n",
      "       'balcony_type', 'square_of_balcony', 'square_of_room', 'wc_count',\n",
      "       'square_of_wc', 'block_of_buildings', 'sheet', 'parcel_of_land',\n",
      "       'show_unit_price', 'video_navigable', 'ground_survey',\n",
      "       'flat_per_floor'],\n",
      "      dtype='object')\n"
     ]
    }
   ],
   "source": [
    "print(df.columns)"
   ]
  },
  {
   "cell_type": "code",
   "execution_count": 194,
   "metadata": {},
   "outputs": [
    {
     "name": "stdout",
     "output_type": "stream",
     "text": [
      "id                   int64\n",
      "categoryTypeName    object\n",
      "tradeTypeName       object\n",
      "estateTypeName      object\n",
      "title               object\n",
      "                     ...  \n",
      "parcel_of_land      object\n",
      "show_unit_price     object\n",
      "video_navigable     object\n",
      "ground_survey       object\n",
      "flat_per_floor      object\n",
      "Length: 63, dtype: object\n"
     ]
    }
   ],
   "source": [
    "# Display the data types of each column\n",
    "print(df.dtypes)\n"
   ]
  },
  {
   "cell_type": "code",
   "execution_count": 195,
   "metadata": {},
   "outputs": [
    {
     "name": "stdout",
     "output_type": "stream",
     "text": [
      "Index(['id', 'previousPrice', 'price', 'tlPrice', 'firstPrice',\n",
      "       'differenceRate', 'squareMeterPrice', 'net_square', 'gross_square'],\n",
      "      dtype='object')\n"
     ]
    }
   ],
   "source": [
    "# Print out numerical features\n",
    "numerical_features = df.select_dtypes(include='number').columns\n",
    "print(numerical_features)\n"
   ]
  },
  {
   "cell_type": "code",
   "execution_count": 196,
   "metadata": {},
   "outputs": [
    {
     "name": "stdout",
     "output_type": "stream",
     "text": [
      "Duplicate columns found: Index(['id'], dtype='object')\n"
     ]
    }
   ],
   "source": [
    "# Check for duplicate column names\n",
    "duplicate_columns = df.columns[df.columns.duplicated()]\n",
    "if len(duplicate_columns) > 0:\n",
    "    print(\"Duplicate columns found:\", duplicate_columns)\n"
   ]
  },
  {
   "cell_type": "code",
   "execution_count": 197,
   "metadata": {},
   "outputs": [],
   "source": [
    "# Drop the duplicate column\n",
    "df.drop(columns=['id'], inplace=True)\n"
   ]
  },
  {
   "cell_type": "code",
   "execution_count": 198,
   "metadata": {},
   "outputs": [],
   "source": [
    "duplicate_columns = df.columns[df.columns.duplicated()]\n",
    "if len(duplicate_columns) > 0:\n",
    "    print(\"Duplicate columns found:\", duplicate_columns)"
   ]
  },
  {
   "cell_type": "code",
   "execution_count": 199,
   "metadata": {},
   "outputs": [
    {
     "name": "stdout",
     "output_type": "stream",
     "text": [
      "Index(['categoryTypeName', 'tradeTypeName', 'estateTypeName', 'title', 'url',\n",
      "       'images', 'locationSummary', 'quickInfos', 'description', 'location',\n",
      "       'trendType', 'previousCurrency', 'previousPrice', 'previousValueValid',\n",
      "       'currency', 'price', 'tlPrice', 'alternativeValue', 'firstPrice',\n",
      "       'differenceRate', 'squareMeterPrice', 'opportunity', 'created_at',\n",
      "       'updated_at', 'category', 'trade_type', 'net_square', 'gross_square',\n",
      "       'room_count', 'build_age', 'floor_number', 'floor_count',\n",
      "       'heating_type', 'usability', 'suitability_for_credit',\n",
      "       'suitability_for_investor', 'in_site', 'build_status', 'build_type',\n",
      "       'deed_status', 'mortgage_status', 'furniture_status',\n",
      "       'subscription_price', 'loan_price', 'trade', 'bath_count',\n",
      "       'square_of_bath', 'balcony_condition', 'balcony_count', 'balcony_type',\n",
      "       'square_of_balcony', 'square_of_room', 'wc_count', 'square_of_wc',\n",
      "       'block_of_buildings', 'sheet', 'parcel_of_land', 'show_unit_price',\n",
      "       'video_navigable', 'ground_survey', 'flat_per_floor'],\n",
      "      dtype='object')\n"
     ]
    }
   ],
   "source": [
    "print(df.columns)\n"
   ]
  },
  {
   "cell_type": "code",
   "execution_count": 200,
   "metadata": {},
   "outputs": [],
   "source": [
    "from sklearn.impute import SimpleImputer\n",
    "from sklearn.preprocessing import StandardScaler, OneHotEncoder\n",
    "from sklearn.compose import ColumnTransformer\n",
    "from sklearn.pipeline import Pipeline\n",
    "\n",
    "# Flatten nested lists in DataFrame\n",
    "def flatten_nested_lists(df):\n",
    "    for col in df.columns:\n",
    "        df[col] = df[col].apply(lambda x: x[0] if isinstance(x, list) else x)\n",
    "    return df\n",
    "\n",
    "df = flatten_nested_lists(df)\n",
    "\n",
    "def flatten_nested_dicts(df):\n",
    "    for col in df.columns:\n",
    "        if df[col].apply(lambda x: isinstance(x, dict)).all():\n",
    "            df[col] = df[col].apply(lambda x: list(x.values())[0])\n",
    "    return df\n",
    "\n",
    "df = flatten_nested_dicts(df)\n",
    "\n",
    "\n",
    "\n",
    "# Define preprocessing steps for numerical and categorical features\n",
    "numerical_transformer = Pipeline(steps=[\n",
    "    ('imputer', SimpleImputer(strategy='mean')),  \n",
    "    ('scaler', StandardScaler())\n",
    "])\n",
    "\n",
    "categorical_transformer = Pipeline(steps=[\n",
    "    ('imputer', SimpleImputer(strategy='most_frequent')),  \n",
    "    ('onehot', OneHotEncoder(handle_unknown='ignore'))\n",
    "])\n",
    "\n",
    "# Define which columns are numerical and categorical\n",
    "numerical_features = df.select_dtypes(include='number').columns\n",
    "categorical_features = df.select_dtypes(include='object').columns\n",
    "\n",
    "# Combine preprocessing steps\n",
    "preprocessor = ColumnTransformer(\n",
    "    transformers=[\n",
    "        ('num', numerical_transformer, numerical_features),\n",
    "        ('cat', categorical_transformer, categorical_features)\n",
    "    ])\n",
    "\n",
    "# Fit and transform the data\n",
    "processed_data = preprocessor.fit_transform(df)\n",
    "\n",
    "# Convert the processed data back to a DataFrame\n",
    "processed_df = pd.DataFrame(processed_data)\n"
   ]
  },
  {
   "cell_type": "markdown",
   "metadata": {},
   "source": [
    "# Further Data Cleaning, Preprocessing"
   ]
  },
  {
   "cell_type": "code",
   "execution_count": 203,
   "metadata": {},
   "outputs": [],
   "source": [
    "# Filling missing values for numerical features with the mean\n",
    "numerical_cols = df.select_dtypes(include=['float64', 'int64']).columns\n",
    "df[numerical_cols] = df[numerical_cols].apply(lambda x: x.fillna(x.mean()))\n",
    "\n",
    "# For categorical features, fill missing values with the mode (most common value)\n",
    "categorical_cols = df.select_dtypes(include=['object']).columns\n",
    "df[categorical_cols] = df[categorical_cols].apply(lambda x: x.fillna(x.mode().iloc[0]))\n"
   ]
  },
  {
   "cell_type": "code",
   "execution_count": 204,
   "metadata": {},
   "outputs": [],
   "source": [
    "# One-Hot Encoding for nominal categorical variables\n",
    "df = pd.get_dummies(df, columns=['categoryTypeName', 'estateTypeName'], drop_first=True)\n"
   ]
  },
  {
   "cell_type": "code",
   "execution_count": 205,
   "metadata": {},
   "outputs": [],
   "source": [
    "import pandas as pd\n",
    "import re\n",
    "\n",
    "df['build_age'] = df['build_age'].apply(lambda x: int(re.findall('\\d+', x)[0]) if pd.notnull(x) else x)\n",
    "\n"
   ]
  },
  {
   "cell_type": "code",
   "execution_count": 207,
   "metadata": {},
   "outputs": [],
   "source": [
    "# Function to convert room_count like \"4+1\" into an integer by summing the parts\n",
    "def convert_room_count_to_int(room_count):\n",
    "    if pd.isnull(room_count):\n",
    "        return None  # Handle missing values\n",
    "    parts = room_count.split('+')\n",
    "    try:\n",
    "        # Convert each part to integer and sum them\n",
    "        return sum(int(part) for part in parts)\n",
    "    except ValueError:\n",
    "        # Handle edge cases where conversion to integer might fail\n",
    "        return None\n",
    "\n",
    "df['room_count'] = df['room_count'].apply(convert_room_count_to_int)\n"
   ]
  },
  {
   "cell_type": "code",
   "execution_count": 209,
   "metadata": {},
   "outputs": [
    {
     "data": {
      "text/plain": [
       "Index(['tradeTypeName', 'title', 'url', 'images', 'locationSummary',\n",
       "       'quickInfos', 'description', 'location', 'trendType',\n",
       "       'previousCurrency', 'previousPrice', 'previousValueValid', 'currency',\n",
       "       'price', 'tlPrice', 'alternativeValue', 'firstPrice', 'differenceRate',\n",
       "       'squareMeterPrice', 'opportunity', 'created_at', 'updated_at',\n",
       "       'category', 'trade_type', 'net_square', 'gross_square', 'room_count',\n",
       "       'build_age', 'floor_number', 'floor_count', 'heating_type', 'usability',\n",
       "       'suitability_for_credit', 'suitability_for_investor', 'in_site',\n",
       "       'build_status', 'build_type', 'deed_status', 'mortgage_status',\n",
       "       'furniture_status', 'subscription_price', 'loan_price', 'trade',\n",
       "       'bath_count', 'square_of_bath', 'balcony_condition', 'balcony_count',\n",
       "       'balcony_type', 'square_of_balcony', 'square_of_room', 'wc_count',\n",
       "       'square_of_wc', 'block_of_buildings', 'sheet', 'parcel_of_land',\n",
       "       'show_unit_price', 'video_navigable', 'ground_survey', 'flat_per_floor',\n",
       "       'estateTypeName_daire', 'estateTypeName_dağ evi',\n",
       "       'estateTypeName_kooperatif', 'estateTypeName_köy evi',\n",
       "       'estateTypeName_köşk', 'estateTypeName_müstakil ev',\n",
       "       'estateTypeName_prefabrik', 'estateTypeName_residence',\n",
       "       'estateTypeName_villa', 'estateTypeName_yalı',\n",
       "       'estateTypeName_yalı dairesi', 'estateTypeName_yazlık',\n",
       "       'estateTypeName_çiftlik evi'],\n",
       "      dtype='object')"
      ]
     },
     "execution_count": 209,
     "metadata": {},
     "output_type": "execute_result"
    }
   ],
   "source": [
    "df.columns"
   ]
  },
  {
   "cell_type": "code",
   "execution_count": 211,
   "metadata": {},
   "outputs": [],
   "source": [
    "# Function to extract number from strings for 'floor_number' and 'floor_count'\n",
    "def extract_number_from_string(s):\n",
    "    # If the string is 'ground floor' or similar, return 0\n",
    "    if pd.isnull(s):\n",
    "        return None\n",
    "    if 'ground' in s.lower():\n",
    "        return 0\n",
    "    # Extract number from string\n",
    "    nums = re.findall('\\d+', s)\n",
    "    return int(nums[0]) if nums else None\n",
    "\n",
    "# Apply the function to the 'floor_number' and 'floor_count' columns\n",
    "df['floor_number'] = df['floor_number'].apply(extract_number_from_string)\n",
    "df['floor_count'] = df['floor_count'].apply(extract_number_from_string)\n",
    "\n",
    "df['floor_count'] = df['floor_count'].fillna(df['floor_count'].median())\n"
   ]
  },
  {
   "cell_type": "code",
   "execution_count": 212,
   "metadata": {},
   "outputs": [],
   "source": [
    "# Apply One-Hot Encoding to 'heating_type' and 'build_status'\n",
    "df = pd.get_dummies(df, columns=['heating_type', 'build_status'], drop_first=False)\n",
    "\n"
   ]
  },
  {
   "cell_type": "code",
   "execution_count": 213,
   "metadata": {},
   "outputs": [
    {
     "data": {
      "text/plain": [
       "Index(['tradeTypeName', 'title', 'url', 'images', 'locationSummary',\n",
       "       'quickInfos', 'description', 'location', 'trendType',\n",
       "       'previousCurrency', 'previousPrice', 'previousValueValid', 'currency',\n",
       "       'price', 'tlPrice', 'alternativeValue', 'firstPrice', 'differenceRate',\n",
       "       'squareMeterPrice', 'opportunity', 'created_at', 'updated_at',\n",
       "       'category', 'trade_type', 'net_square', 'gross_square', 'room_count',\n",
       "       'build_age', 'floor_number', 'floor_count', 'usability',\n",
       "       'suitability_for_credit', 'suitability_for_investor', 'in_site',\n",
       "       'build_type', 'deed_status', 'mortgage_status', 'furniture_status',\n",
       "       'subscription_price', 'loan_price', 'trade', 'bath_count',\n",
       "       'square_of_bath', 'balcony_condition', 'balcony_count', 'balcony_type',\n",
       "       'square_of_balcony', 'square_of_room', 'wc_count', 'square_of_wc',\n",
       "       'block_of_buildings', 'sheet', 'parcel_of_land', 'show_unit_price',\n",
       "       'video_navigable', 'ground_survey', 'flat_per_floor',\n",
       "       'estateTypeName_daire', 'estateTypeName_dağ evi',\n",
       "       'estateTypeName_kooperatif', 'estateTypeName_köy evi',\n",
       "       'estateTypeName_köşk', 'estateTypeName_müstakil ev',\n",
       "       'estateTypeName_prefabrik', 'estateTypeName_residence',\n",
       "       'estateTypeName_villa', 'estateTypeName_yalı',\n",
       "       'estateTypeName_yalı dairesi', 'estateTypeName_yazlık',\n",
       "       'estateTypeName_çiftlik evi', 'heating_type_Doğalgaz Sobalı',\n",
       "       'heating_type_Elektrikli Radyatör', 'heating_type_Fancoil Ünitesi',\n",
       "       'heating_type_Güneş Enerjisi', 'heating_type_Isı Pompası',\n",
       "       'heating_type_Isıtma Yok', 'heating_type_Jeotermal',\n",
       "       'heating_type_Kat Kaloriferi', 'heating_type_Klimalı',\n",
       "       'heating_type_Kombi Doğalgaz', 'heating_type_Kombi Fueloil',\n",
       "       'heating_type_Kombi Katı Yakıt', 'heating_type_Merkezi (Pay Ölçer)',\n",
       "       'heating_type_Merkezi Doğalgaz', 'heating_type_Merkezi Fueloil',\n",
       "       'heating_type_Merkezi Kömür', 'heating_type_Sobalı', 'heating_type_VRV',\n",
       "       'heating_type_Yerden Isıtma', 'heating_type_Şömine',\n",
       "       'build_status_Sıfır', 'build_status_Yapım Aşamasında',\n",
       "       'build_status_İkinci El'],\n",
       "      dtype='object')"
      ]
     },
     "execution_count": 213,
     "metadata": {},
     "output_type": "execute_result"
    }
   ],
   "source": [
    "df.columns"
   ]
  },
  {
   "cell_type": "code",
   "execution_count": 218,
   "metadata": {},
   "outputs": [
    {
     "name": "stdout",
     "output_type": "stream",
     "text": [
      "Index(['previousPrice', 'price', 'tlPrice', 'firstPrice', 'differenceRate',\n",
      "       'squareMeterPrice', 'net_square', 'gross_square', 'room_count',\n",
      "       'build_age', 'floor_number', 'floor_count', 'estateTypeName_daire',\n",
      "       'estateTypeName_dağ evi', 'estateTypeName_kooperatif',\n",
      "       'estateTypeName_köy evi', 'estateTypeName_köşk',\n",
      "       'estateTypeName_müstakil ev', 'estateTypeName_prefabrik',\n",
      "       'estateTypeName_residence', 'estateTypeName_villa',\n",
      "       'estateTypeName_yalı', 'estateTypeName_yalı dairesi',\n",
      "       'estateTypeName_yazlık', 'estateTypeName_çiftlik evi',\n",
      "       'heating_type_Doğalgaz Sobalı', 'heating_type_Elektrikli Radyatör',\n",
      "       'heating_type_Fancoil Ünitesi', 'heating_type_Güneş Enerjisi',\n",
      "       'heating_type_Isı Pompası', 'heating_type_Isıtma Yok',\n",
      "       'heating_type_Jeotermal', 'heating_type_Kat Kaloriferi',\n",
      "       'heating_type_Klimalı', 'heating_type_Kombi Doğalgaz',\n",
      "       'heating_type_Kombi Fueloil', 'heating_type_Kombi Katı Yakıt',\n",
      "       'heating_type_Merkezi (Pay Ölçer)', 'heating_type_Merkezi Doğalgaz',\n",
      "       'heating_type_Merkezi Fueloil', 'heating_type_Merkezi Kömür',\n",
      "       'heating_type_Sobalı', 'heating_type_VRV', 'heating_type_Yerden Isıtma',\n",
      "       'heating_type_Şömine', 'build_status_Sıfır',\n",
      "       'build_status_Yapım Aşamasında', 'build_status_İkinci El'],\n",
      "      dtype='object')\n"
     ]
    }
   ],
   "source": [
    "# Print out numerical features\n",
    "numerical_features = df.select_dtypes(include='number').columns\n",
    "print(numerical_features)\n"
   ]
  },
  {
   "cell_type": "markdown",
   "metadata": {},
   "source": [
    "# Feature Engineering"
   ]
  },
  {
   "cell_type": "code",
   "execution_count": 228,
   "metadata": {},
   "outputs": [],
   "source": [
    "# Define the features and target variable\n",
    "features = ['previousPrice', 'firstPrice', 'differenceRate',\n",
    "            'squareMeterPrice', 'net_square', 'gross_square', 'room_count',\n",
    "            'build_age', 'floor_number', 'floor_count',\n",
    "            'estateTypeName_daire', 'estateTypeName_dağ evi', 'estateTypeName_kooperatif',\n",
    "            'estateTypeName_köy evi', 'estateTypeName_köşk',\n",
    "            'estateTypeName_müstakil ev', 'estateTypeName_prefabrik',\n",
    "            'estateTypeName_residence', 'estateTypeName_villa',\n",
    "            'estateTypeName_yalı', 'estateTypeName_yalı dairesi',\n",
    "            'estateTypeName_yazlık', 'estateTypeName_çiftlik evi',\n",
    "            'heating_type_Doğalgaz Sobalı', 'heating_type_Elektrikli Radyatör',\n",
    "            'heating_type_Fancoil Ünitesi', 'heating_type_Güneş Enerjisi',\n",
    "            'heating_type_Isı Pompası', 'heating_type_Isıtma Yok',\n",
    "            'heating_type_Jeotermal', 'heating_type_Kat Kaloriferi',\n",
    "            'heating_type_Klimalı', 'heating_type_Kombi Doğalgaz',\n",
    "            'heating_type_Kombi Fueloil', 'heating_type_Kombi Katı Yakıt',\n",
    "            'heating_type_Merkezi (Pay Ölçer)', 'heating_type_Merkezi Doğalgaz',\n",
    "            'heating_type_Merkezi Fueloil', 'heating_type_Merkezi Kömür',\n",
    "            'heating_type_Sobalı', 'heating_type_VRV', 'heating_type_Yerden Isıtma',\n",
    "            'heating_type_Şömine', 'build_status_Sıfır',\n",
    "            'build_status_Yapım Aşamasında', 'build_status_İkinci El']\n",
    "target = 'price'\n",
    "\n",
    "# Calculate the Interquartile Range (IQR) for the 'price' column\n",
    "Q1 = df['price'].quantile(0.25)\n",
    "Q3 = df['price'].quantile(0.75)\n",
    "IQR = Q3 - Q1\n",
    "\n",
    "# Define bounds for the outliers\n",
    "lower_bound = Q1 - 1.5 * IQR\n",
    "upper_bound = Q3 + 1.5 * IQR\n",
    "\n",
    "# Filter out the outliers\n",
    "df = df[(df['price'] >= lower_bound) & (df['price'] <= upper_bound)]\n",
    "\n",
    "# Predict on the\n",
    "X = df[features]\n",
    "y = df[target]\n",
    "\n",
    "X = X.fillna(X.median())\n"
   ]
  },
  {
   "cell_type": "markdown",
   "metadata": {},
   "source": [
    "# Training and Testing Data"
   ]
  },
  {
   "cell_type": "code",
   "execution_count": 229,
   "metadata": {},
   "outputs": [
    {
     "name": "stdout",
     "output_type": "stream",
     "text": [
      "RMSE: 1992178.146189363\n",
      "R² score: 0.3309354552992052\n"
     ]
    }
   ],
   "source": [
    "from sklearn.model_selection import train_test_split\n",
    "\n",
    "# Splitting the dataset into training and testing sets\n",
    "X_train, X_test, y_train, y_test = train_test_split(X, y, test_size=0.2, random_state=42)\n",
    "\n",
    "from sklearn.linear_model import LinearRegression\n",
    "from sklearn.metrics import mean_squared_error, r2_score\n",
    "\n",
    "# Initialize the Linear Regression model\n",
    "model = LinearRegression()\n",
    "\n",
    "# Train the model\n",
    "model.fit(X_train, y_train)\n",
    "\n",
    "# Predict on the testing set\n",
    "y_pred = model.predict(X_test)\n",
    "\n",
    "# Evaluate the model\n",
    "mse = mean_squared_error(y_test, y_pred)\n",
    "rmse = mse ** 0.5\n",
    "r2 = r2_score(y_test, y_pred)\n",
    "\n",
    "print(f'RMSE: {rmse}')\n",
    "print(f'R² score: {r2}')\n"
   ]
  },
  {
   "cell_type": "code",
   "execution_count": 230,
   "metadata": {},
   "outputs": [
    {
     "data": {
      "image/png": "[encoded data removed]",
      "text/plain": [
       "<Figure size 1000x600 with 1 Axes>"
      ]
     },
     "metadata": {},
     "output_type": "display_data"
    }
   ],
   "source": [
    "import matplotlib.pyplot as plt\n",
    "\n",
    "# Plotting Actual vs Predicted prices\n",
    "plt.figure(figsize=(10, 6))\n",
    "plt.scatter(y_test, y_pred, alpha=0.5)\n",
    "plt.xlabel('Actual Price')\n",
    "plt.ylabel('Predicted Price')\n",
    "plt.title('Actual vs Predicted Price')\n",
    "plt.plot([y_test.min(), y_test.max()], [y_test.min(), y_test.max()], 'k--', lw=2)\n",
    "plt.show()\n"
   ]
  }
 ],
 "metadata": {
  "kernelspec": {
   "display_name": "base",
   "language": "python",
   "name": "python3"
  },
  "language_info": {
   "codemirror_mode": {
    "name": "ipython",
    "version": 3
   },
   "file_extension": ".py",
   "mimetype": "text/x-python",
   "name": "python",
   "nbconvert_exporter": "python",
   "pygments_lexer": "ipython3",
   "version": "3.10.9"
  }
 },
 "nbformat": 4,
 "nbformat_minor": 2
}
